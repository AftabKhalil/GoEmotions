{
  "nbformat": 4,
  "nbformat_minor": 0,
  "metadata": {
    "accelerator": "GPU",
    "colab": {
      "name": "Qs1 and Qs2.ipynb",
      "provenance": [],
      "collapsed_sections": []
    },
    "kernelspec": {
      "name": "python3",
      "display_name": "Python 3"
    }
  },
  "cells": [
    {
      "cell_type": "markdown",
      "metadata": {
        "id": "8Rd1aEKOza03"
      },
      "source": [
        "<h1>Installing the dependencies first<h1>"
      ]
    },
    {
      "cell_type": "code",
      "metadata": {
        "id": "MOsHUjgdIrIW",
        "colab": {
          "base_uri": "https://localhost:8080/"
        },
        "outputId": "580fa31f-e585-4a18-9c84-9e38d9593de0"
      },
      "source": [
        "!pip install datasets==1.3.0\n",
        "!pip install transformers==4.3.2\n",
        "!pip install folium==0.2.1\n",
        "!pip install imgaug==0.2.6\n",
        "!pip install numpy==1.19.2"
      ],
      "execution_count": 1,
      "outputs": [
        {
          "output_type": "stream",
          "text": [
            "Requirement already satisfied: datasets==1.3.0 in /usr/local/lib/python3.7/dist-packages (1.3.0)\n",
            "Requirement already satisfied: dill in /usr/local/lib/python3.7/dist-packages (from datasets==1.3.0) (0.3.3)\n",
            "Requirement already satisfied: pandas in /usr/local/lib/python3.7/dist-packages (from datasets==1.3.0) (1.1.5)\n",
            "Requirement already satisfied: huggingface-hub==0.0.2 in /usr/local/lib/python3.7/dist-packages (from datasets==1.3.0) (0.0.2)\n",
            "Requirement already satisfied: pyarrow>=0.17.1 in /usr/local/lib/python3.7/dist-packages (from datasets==1.3.0) (3.0.0)\n",
            "Requirement already satisfied: requests>=2.19.0 in /usr/local/lib/python3.7/dist-packages (from datasets==1.3.0) (2.23.0)\n",
            "Requirement already satisfied: tqdm<4.50.0,>=4.27 in /usr/local/lib/python3.7/dist-packages (from datasets==1.3.0) (4.41.1)\n",
            "Requirement already satisfied: fsspec in /usr/local/lib/python3.7/dist-packages (from datasets==1.3.0) (0.8.7)\n",
            "Requirement already satisfied: numpy>=1.17 in /usr/local/lib/python3.7/dist-packages (from datasets==1.3.0) (1.19.2)\n",
            "Requirement already satisfied: importlib-metadata; python_version < \"3.8\" in /usr/local/lib/python3.7/dist-packages (from datasets==1.3.0) (3.7.2)\n",
            "Requirement already satisfied: xxhash in /usr/local/lib/python3.7/dist-packages (from datasets==1.3.0) (2.0.0)\n",
            "Requirement already satisfied: multiprocess in /usr/local/lib/python3.7/dist-packages (from datasets==1.3.0) (0.70.11.1)\n",
            "Requirement already satisfied: pytz>=2017.2 in /usr/local/lib/python3.7/dist-packages (from pandas->datasets==1.3.0) (2018.9)\n",
            "Requirement already satisfied: python-dateutil>=2.7.3 in /usr/local/lib/python3.7/dist-packages (from pandas->datasets==1.3.0) (2.8.1)\n",
            "Requirement already satisfied: filelock in /usr/local/lib/python3.7/dist-packages (from huggingface-hub==0.0.2->datasets==1.3.0) (3.0.12)\n",
            "Requirement already satisfied: urllib3!=1.25.0,!=1.25.1,<1.26,>=1.21.1 in /usr/local/lib/python3.7/dist-packages (from requests>=2.19.0->datasets==1.3.0) (1.24.3)\n",
            "Requirement already satisfied: chardet<4,>=3.0.2 in /usr/local/lib/python3.7/dist-packages (from requests>=2.19.0->datasets==1.3.0) (3.0.4)\n",
            "Requirement already satisfied: certifi>=2017.4.17 in /usr/local/lib/python3.7/dist-packages (from requests>=2.19.0->datasets==1.3.0) (2020.12.5)\n",
            "Requirement already satisfied: idna<3,>=2.5 in /usr/local/lib/python3.7/dist-packages (from requests>=2.19.0->datasets==1.3.0) (2.10)\n",
            "Requirement already satisfied: zipp>=0.5 in /usr/local/lib/python3.7/dist-packages (from importlib-metadata; python_version < \"3.8\"->datasets==1.3.0) (3.4.1)\n",
            "Requirement already satisfied: typing-extensions>=3.6.4; python_version < \"3.8\" in /usr/local/lib/python3.7/dist-packages (from importlib-metadata; python_version < \"3.8\"->datasets==1.3.0) (3.7.4.3)\n",
            "Requirement already satisfied: six>=1.5 in /usr/local/lib/python3.7/dist-packages (from python-dateutil>=2.7.3->pandas->datasets==1.3.0) (1.15.0)\n",
            "Requirement already satisfied: transformers==4.3.2 in /usr/local/lib/python3.7/dist-packages (4.3.2)\n",
            "Requirement already satisfied: importlib-metadata; python_version < \"3.8\" in /usr/local/lib/python3.7/dist-packages (from transformers==4.3.2) (3.7.2)\n",
            "Requirement already satisfied: regex!=2019.12.17 in /usr/local/lib/python3.7/dist-packages (from transformers==4.3.2) (2019.12.20)\n",
            "Requirement already satisfied: requests in /usr/local/lib/python3.7/dist-packages (from transformers==4.3.2) (2.23.0)\n",
            "Requirement already satisfied: tqdm>=4.27 in /usr/local/lib/python3.7/dist-packages (from transformers==4.3.2) (4.41.1)\n",
            "Requirement already satisfied: packaging in /usr/local/lib/python3.7/dist-packages (from transformers==4.3.2) (20.9)\n",
            "Requirement already satisfied: numpy>=1.17 in /usr/local/lib/python3.7/dist-packages (from transformers==4.3.2) (1.19.2)\n",
            "Requirement already satisfied: sacremoses in /usr/local/lib/python3.7/dist-packages (from transformers==4.3.2) (0.0.43)\n",
            "Requirement already satisfied: tokenizers<0.11,>=0.10.1 in /usr/local/lib/python3.7/dist-packages (from transformers==4.3.2) (0.10.1)\n",
            "Requirement already satisfied: filelock in /usr/local/lib/python3.7/dist-packages (from transformers==4.3.2) (3.0.12)\n",
            "Requirement already satisfied: typing-extensions>=3.6.4; python_version < \"3.8\" in /usr/local/lib/python3.7/dist-packages (from importlib-metadata; python_version < \"3.8\"->transformers==4.3.2) (3.7.4.3)\n",
            "Requirement already satisfied: zipp>=0.5 in /usr/local/lib/python3.7/dist-packages (from importlib-metadata; python_version < \"3.8\"->transformers==4.3.2) (3.4.1)\n",
            "Requirement already satisfied: urllib3!=1.25.0,!=1.25.1,<1.26,>=1.21.1 in /usr/local/lib/python3.7/dist-packages (from requests->transformers==4.3.2) (1.24.3)\n",
            "Requirement already satisfied: chardet<4,>=3.0.2 in /usr/local/lib/python3.7/dist-packages (from requests->transformers==4.3.2) (3.0.4)\n",
            "Requirement already satisfied: certifi>=2017.4.17 in /usr/local/lib/python3.7/dist-packages (from requests->transformers==4.3.2) (2020.12.5)\n",
            "Requirement already satisfied: idna<3,>=2.5 in /usr/local/lib/python3.7/dist-packages (from requests->transformers==4.3.2) (2.10)\n",
            "Requirement already satisfied: pyparsing>=2.0.2 in /usr/local/lib/python3.7/dist-packages (from packaging->transformers==4.3.2) (2.4.7)\n",
            "Requirement already satisfied: six in /usr/local/lib/python3.7/dist-packages (from sacremoses->transformers==4.3.2) (1.15.0)\n",
            "Requirement already satisfied: click in /usr/local/lib/python3.7/dist-packages (from sacremoses->transformers==4.3.2) (7.1.2)\n",
            "Requirement already satisfied: joblib in /usr/local/lib/python3.7/dist-packages (from sacremoses->transformers==4.3.2) (1.0.1)\n",
            "Requirement already satisfied: folium==0.2.1 in /usr/local/lib/python3.7/dist-packages (0.2.1)\n",
            "Requirement already satisfied: Jinja2 in /usr/local/lib/python3.7/dist-packages (from folium==0.2.1) (2.11.3)\n",
            "Requirement already satisfied: MarkupSafe>=0.23 in /usr/local/lib/python3.7/dist-packages (from Jinja2->folium==0.2.1) (1.1.1)\n",
            "Requirement already satisfied: imgaug==0.2.6 in /usr/local/lib/python3.7/dist-packages (0.2.6)\n",
            "Requirement already satisfied: scikit-image>=0.11.0 in /usr/local/lib/python3.7/dist-packages (from imgaug==0.2.6) (0.16.2)\n",
            "Requirement already satisfied: scipy in /usr/local/lib/python3.7/dist-packages (from imgaug==0.2.6) (1.4.1)\n",
            "Requirement already satisfied: numpy>=1.7.0 in /usr/local/lib/python3.7/dist-packages (from imgaug==0.2.6) (1.19.2)\n",
            "Requirement already satisfied: six in /usr/local/lib/python3.7/dist-packages (from imgaug==0.2.6) (1.15.0)\n",
            "Requirement already satisfied: pillow>=4.3.0 in /usr/local/lib/python3.7/dist-packages (from scikit-image>=0.11.0->imgaug==0.2.6) (7.0.0)\n",
            "Requirement already satisfied: networkx>=2.0 in /usr/local/lib/python3.7/dist-packages (from scikit-image>=0.11.0->imgaug==0.2.6) (2.5)\n",
            "Requirement already satisfied: imageio>=2.3.0 in /usr/local/lib/python3.7/dist-packages (from scikit-image>=0.11.0->imgaug==0.2.6) (2.4.1)\n",
            "Requirement already satisfied: matplotlib!=3.0.0,>=2.0.0 in /usr/local/lib/python3.7/dist-packages (from scikit-image>=0.11.0->imgaug==0.2.6) (3.2.2)\n",
            "Requirement already satisfied: PyWavelets>=0.4.0 in /usr/local/lib/python3.7/dist-packages (from scikit-image>=0.11.0->imgaug==0.2.6) (1.1.1)\n",
            "Requirement already satisfied: decorator>=4.3.0 in /usr/local/lib/python3.7/dist-packages (from networkx>=2.0->scikit-image>=0.11.0->imgaug==0.2.6) (4.4.2)\n",
            "Requirement already satisfied: cycler>=0.10 in /usr/local/lib/python3.7/dist-packages (from matplotlib!=3.0.0,>=2.0.0->scikit-image>=0.11.0->imgaug==0.2.6) (0.10.0)\n",
            "Requirement already satisfied: kiwisolver>=1.0.1 in /usr/local/lib/python3.7/dist-packages (from matplotlib!=3.0.0,>=2.0.0->scikit-image>=0.11.0->imgaug==0.2.6) (1.3.1)\n",
            "Requirement already satisfied: pyparsing!=2.0.4,!=2.1.2,!=2.1.6,>=2.0.1 in /usr/local/lib/python3.7/dist-packages (from matplotlib!=3.0.0,>=2.0.0->scikit-image>=0.11.0->imgaug==0.2.6) (2.4.7)\n",
            "Requirement already satisfied: python-dateutil>=2.1 in /usr/local/lib/python3.7/dist-packages (from matplotlib!=3.0.0,>=2.0.0->scikit-image>=0.11.0->imgaug==0.2.6) (2.8.1)\n",
            "Requirement already satisfied: numpy==1.19.2 in /usr/local/lib/python3.7/dist-packages (1.19.2)\n"
          ],
          "name": "stdout"
        }
      ]
    },
    {
      "cell_type": "markdown",
      "metadata": {
        "id": "5w7YL30eXwKQ"
      },
      "source": [
        "<h2>Load dataset</h2>"
      ]
    },
    {
      "cell_type": "code",
      "metadata": {
        "id": "YZbiBDuGIrId",
        "colab": {
          "base_uri": "https://localhost:8080/"
        },
        "outputId": "6211d361-5ba2-42e6-e278-e812d9a31b52"
      },
      "source": [
        "from datasets import load_dataset\n",
        "emotions_dataset = load_dataset('go_emotions', 'simplified')"
      ],
      "execution_count": 2,
      "outputs": [
        {
          "output_type": "stream",
          "text": [
            "Reusing dataset go_emotions (/root/.cache/huggingface/datasets/go_emotions/simplified/0.0.0/ef1c18ea192c771555f1e0d638889dd5f1896255782c57c6a0b934d5f94f779e)\n"
          ],
          "name": "stderr"
        }
      ]
    },
    {
      "cell_type": "markdown",
      "metadata": {
        "id": "WHUmphG3IrI3"
      },
      "source": [
        "To get a sense of what the data looks like, the following function will show some examples picked randomly in the dataset."
      ]
    },
    {
      "cell_type": "code",
      "metadata": {
        "id": "i3j8APAoIrI3"
      },
      "source": [
        "import datasets\n",
        "import random\n",
        "import pandas as pd\n",
        "from IPython.display import display, HTML\n",
        "\n",
        "def show_random_elements(dataset, num_examples=10):\n",
        "    assert num_examples <= len(dataset), \"Can't pick more elements than there are in the dataset.\"\n",
        "    picks = []\n",
        "    for _ in range(num_examples):\n",
        "        pick = random.randint(0, len(dataset)-1)\n",
        "        while pick in picks:\n",
        "            pick = random.randint(0, len(dataset)-1)\n",
        "        picks.append(pick)\n",
        "    \n",
        "    df = pd.DataFrame(dataset[picks])\n",
        "    for column, typ in dataset.features.items():\n",
        "        if isinstance(typ, datasets.ClassLabel):\n",
        "            df[column] = df[column].transform(lambda i: typ.names[i])\n",
        "    display(HTML(df.to_html()))"
      ],
      "execution_count": 3,
      "outputs": []
    },
    {
      "cell_type": "code",
      "metadata": {
        "id": "SZy5tRB_IrI7",
        "colab": {
          "base_uri": "https://localhost:8080/",
          "height": 458
        },
        "outputId": "9c1414c8-867a-4915-958c-77ecc0b26711"
      },
      "source": [
        "# For simplicity, train model with single label for item.\n",
        "restricted_dataset = emotions_dataset.filter(lambda x: len(x[\"labels\"]) == 1 and 27 not in x['labels'])\n",
        "print(len(restricted_dataset['train']))\n",
        "show_random_elements(restricted_dataset['train'])"
      ],
      "execution_count": 4,
      "outputs": [
        {
          "output_type": "stream",
          "text": [
            "Loading cached processed dataset at /root/.cache/huggingface/datasets/go_emotions/simplified/0.0.0/ef1c18ea192c771555f1e0d638889dd5f1896255782c57c6a0b934d5f94f779e/cache-795a7dd4fa0a41dd.arrow\n",
            "Loading cached processed dataset at /root/.cache/huggingface/datasets/go_emotions/simplified/0.0.0/ef1c18ea192c771555f1e0d638889dd5f1896255782c57c6a0b934d5f94f779e/cache-888342e8a6370469.arrow\n",
            "Loading cached processed dataset at /root/.cache/huggingface/datasets/go_emotions/simplified/0.0.0/ef1c18ea192c771555f1e0d638889dd5f1896255782c57c6a0b934d5f94f779e/cache-dda5155187038717.arrow\n"
          ],
          "name": "stderr"
        },
        {
          "output_type": "stream",
          "text": [
            "23485\n"
          ],
          "name": "stdout"
        },
        {
          "output_type": "display_data",
          "data": {
            "text/html": [
              "<table border=\"1\" class=\"dataframe\">\n",
              "  <thead>\n",
              "    <tr style=\"text-align: right;\">\n",
              "      <th></th>\n",
              "      <th>id</th>\n",
              "      <th>labels</th>\n",
              "      <th>text</th>\n",
              "    </tr>\n",
              "  </thead>\n",
              "  <tbody>\n",
              "    <tr>\n",
              "      <th>0</th>\n",
              "      <td>edjxoh9</td>\n",
              "      <td>[0]</td>\n",
              "      <td>I shave it. Btw great way to cheer me up saying I look like I'm 45 at 23</td>\n",
              "    </tr>\n",
              "    <tr>\n",
              "      <th>1</th>\n",
              "      <td>ed17nps</td>\n",
              "      <td>[6]</td>\n",
              "      <td>Is that listing not supposed to be a joke?</td>\n",
              "    </tr>\n",
              "    <tr>\n",
              "      <th>2</th>\n",
              "      <td>eeymht7</td>\n",
              "      <td>[0]</td>\n",
              "      <td>He's been great since his first snap as a [NAME]</td>\n",
              "    </tr>\n",
              "    <tr>\n",
              "      <th>3</th>\n",
              "      <td>edkqhj1</td>\n",
              "      <td>[17]</td>\n",
              "      <td>I always thought of the sound of lakes freezing on cold nights. It's pretty surreal in itself.</td>\n",
              "    </tr>\n",
              "    <tr>\n",
              "      <th>4</th>\n",
              "      <td>eewq7jc</td>\n",
              "      <td>[17]</td>\n",
              "      <td>Oh the joys of Marine Corps boot camp!!</td>\n",
              "    </tr>\n",
              "    <tr>\n",
              "      <th>5</th>\n",
              "      <td>ee3ooph</td>\n",
              "      <td>[17]</td>\n",
              "      <td>Imagine making a homophobic joke when your name is /u/Lebronlover23 OOF.</td>\n",
              "    </tr>\n",
              "    <tr>\n",
              "      <th>6</th>\n",
              "      <td>ed33k6t</td>\n",
              "      <td>[8]</td>\n",
              "      <td>Would love for us to go to [NAME] and give them Tammy for peanuts with a buyback</td>\n",
              "    </tr>\n",
              "    <tr>\n",
              "      <th>7</th>\n",
              "      <td>efbntjz</td>\n",
              "      <td>[13]</td>\n",
              "      <td>Can't wait to move out of the city so I can get a gun. No gun city living sucks</td>\n",
              "    </tr>\n",
              "    <tr>\n",
              "      <th>8</th>\n",
              "      <td>ed4zr3n</td>\n",
              "      <td>[18]</td>\n",
              "      <td>I love you for making this</td>\n",
              "    </tr>\n",
              "    <tr>\n",
              "      <th>9</th>\n",
              "      <td>ee3e3o8</td>\n",
              "      <td>[13]</td>\n",
              "      <td>Wow, way to disregard history completely.</td>\n",
              "    </tr>\n",
              "  </tbody>\n",
              "</table>"
            ],
            "text/plain": [
              "<IPython.core.display.HTML object>"
            ]
          },
          "metadata": {
            "tags": []
          }
        }
      ]
    },
    {
      "cell_type": "markdown",
      "metadata": {
        "id": "lnjDIuQ3IrI-"
      },
      "source": [
        "\n",
        "The emotions are provided as numeric labels. These are the actual orderings, beginning at 0 for admiration:"
      ]
    },
    {
      "cell_type": "code",
      "metadata": {
        "id": "5o4rUteaIrI_"
      },
      "source": [
        "labels = [\"admiration\", \"amusement\", \"anger\", \"annoyance\", \"approval\", \"caring\", \n",
        "          \"confusion\", \"curiosity\", \"desire\", \"disappointment\", \"disapproval\",\n",
        "          \"disgust\", \"embarrassment\", \"excitement\", \"fear\", \"gratitude\", \"grief\",\n",
        "          \"joy\", \"love\", \"nervousness\", \"optimism\", \"pride\", \"realization\",\n",
        "          \"relief\", \"remorse\", \"sadness\", \"surprise\", \"neutral\"]\n",
        "index_to_labels = {index: label for index, label in enumerate(labels)}"
      ],
      "execution_count": 5,
      "outputs": []
    },
    {
      "cell_type": "markdown",
      "metadata": {
        "id": "n9qywopnIrJH"
      },
      "source": [
        "## Preprocessing the data"
      ]
    },
    {
      "cell_type": "markdown",
      "metadata": {
        "id": "YVx71GdAIrJH"
      },
      "source": [
        "Before we can feed those texts to our model, we need to preprocess them. This is done by a 🤗 Transformers `Tokenizer` which will (as the name indicates) tokenize the inputs (including converting the tokens to their corresponding IDs in the pretrained vocabulary) and put it in a format the model expects, as well as generate the other inputs that model requires.\n",
        "\n",
        "To do all of this, we instantiate our tokenizer with the `AutoTokenizer.from_pretrained` method, which will ensure:\n",
        "\n",
        "- we get a tokenizer that corresponds to the model architecture we want to use,\n",
        "- we download the vocabulary used when pretraining this specific checkpoint.\n",
        "\n",
        "That vocabulary will be cached, so it's not downloaded again the next time we run the cell."
      ]
    },
    {
      "cell_type": "markdown",
      "metadata": {
        "id": "NMo4Odd1XZjF"
      },
      "source": [
        "<h1>Method to define and preprocess the model</h1>"
      ]
    },
    {
      "cell_type": "code",
      "metadata": {
        "id": "HakAebh53HGR"
      },
      "source": [
        "from transformers import AutoConfig, AutoModelForSequenceClassification, AutoTokenizer\n",
        "\n",
        "def load_model(name):\n",
        "  global model\n",
        "  global tokenizer\n",
        "\n",
        "  model_name = name\n",
        "  config = AutoConfig.from_pretrained(model_name, num_labels=27)\n",
        "  model = AutoModelForSequenceClassification.from_config(config=config)\n",
        "  tokenizer = AutoTokenizer.from_pretrained(model_name, use_fast=True)\n",
        "  encode_dataset()\n",
        "\n",
        "def preprocess_function(examples):\n",
        "    return tokenizer(examples['text'], truncation=True)\n",
        "\n",
        "def convert_labels_to_int(example):\n",
        "    example['labels'] = example['labels'][0]\n",
        "    return example\n",
        "\n",
        "def encode_dataset():\n",
        "  global encoded_dataset\n",
        "  encoded_dataset = restricted_dataset.map(preprocess_function, batched=True)\n",
        "  encoded_dataset = encoded_dataset.map(convert_labels_to_int)"
      ],
      "execution_count": 6,
      "outputs": []
    },
    {
      "cell_type": "markdown",
      "metadata": {
        "id": "545PP3o8IrJV"
      },
      "source": [
        "## Fine-tuning the model"
      ]
    },
    {
      "cell_type": "code",
      "metadata": {
        "id": "UmvbnJ9JIrJd"
      },
      "source": [
        "metric = datasets.load_metric('accuracy')\n",
        "def compute_metrics(eval_pred):\n",
        "    predictions, labels = eval_pred\n",
        "    predictions = np.argmax(predictions, axis = 1)\n",
        "    return metric.compute(predictions = predictions, references = labels)"
      ],
      "execution_count": 7,
      "outputs": []
    },
    {
      "cell_type": "markdown",
      "metadata": {
        "id": "RlJlk2Zeoext"
      },
      "source": [
        "<hr>\n",
        "<hr>\n",
        "<hr>"
      ]
    },
    {
      "cell_type": "markdown",
      "metadata": {
        "id": "eOQSYVr8zPfi"
      },
      "source": [
        "<h1>Qs 1. Can you report how accuracy changes with varying the hypyerparameters defined above? How does accuracy change with increasing number of epochs? Learning rate? Mention your final choice of parameters and graph how they impact accuracy.</h1>"
      ]
    },
    {
      "cell_type": "markdown",
      "metadata": {
        "id": "CZ_4JTKnoqQD"
      },
      "source": [
        "<p>We first define the combinations of hypyerparameters that we will be using for our evaluations</p>"
      ]
    },
    {
      "cell_type": "markdown",
      "metadata": {
        "id": "_b1iHH9yQIZw"
      },
      "source": [
        "Let us evaluate the model on <b>number of epoches</b> and <b>learning rate</b> as asked for.\n",
        "</br>\n",
        "<b>number of epochs</b> : 1, 2, 3 and 4\n",
        "</br>\n",
        "<b>learning rate</b> : 2e-6, 2e-5 and 2e-4\n",
        "\n",
        "</br>\n",
        "So, We will use all the possoble combitions of the above parameters as described in the below table :\n",
        "</br>\n",
        "<table>\n",
        "<tr>\n",
        "<th>no of epoches</th>\n",
        "<th>learning rate</th>\n",
        "</tr>\n",
        "<tr>\n",
        "<td>1</td>\n",
        "<td>2e-06</td>\n",
        "</tr>\n",
        "<tr>\n",
        "<td>1</td>\n",
        "<td>2e-05</td>\n",
        "</tr>\n",
        "<tr>\n",
        "<td>1</td>\n",
        "<td>0.0002</td>\n",
        "</tr>\n",
        "<tr>\n",
        "<td>2</td>\n",
        "<td>2e-06</td>\n",
        "</tr>\n",
        "<tr>\n",
        "<td>2</td>\n",
        "<td>2e-05</td>\n",
        "</tr>\n",
        "<tr>\n",
        "<td>2</td>\n",
        "<td>0.0002</td>\n",
        "</tr>\n",
        "<tr>\n",
        "<td>3</td>\n",
        "<td>2e-06</td>\n",
        "</tr>\n",
        "<tr>\n",
        "<td>3</td>\n",
        "<td>2e-05</td>\n",
        "</tr>\n",
        "<tr>\n",
        "<td>3</td>\n",
        "<td>0.0002</td>\n",
        "</tr>\n",
        "<tr>\n",
        "<td>4</td>\n",
        "<td>2e-06</td>\n",
        "</tr>\n",
        "<tr>\n",
        "<td>4</td>\n",
        "<td>2e-05</td>\n",
        "</tr>\n",
        "<tr>\n",
        "<td>4</td>\n",
        "<td>0.0002</td>\n",
        "</tr>\n",
        "</table>"
      ]
    },
    {
      "cell_type": "markdown",
      "metadata": {
        "id": "UqqM-wInSvgm"
      },
      "source": [
        "Let us describe the above parameters as arrays and generate the possible combinations"
      ]
    },
    {
      "cell_type": "code",
      "metadata": {
        "id": "JriKY5liTIXc",
        "colab": {
          "base_uri": "https://localhost:8080/"
        },
        "outputId": "223f1cbc-7511-4601-d30b-f8921ac4233b"
      },
      "source": [
        "def getCombinations(epoch_sizes, learning_rates):\n",
        "  combinations = []\n",
        "  for i in range(len(epoch_sizes)):\n",
        "    for j in range(len(learning_rates)):\n",
        "      combination = {'epoch_size' : epoch_sizes[i],\n",
        "                     'learning_rate' : learning_rates[j]}\n",
        "      combinations.append(combination)\n",
        "  return combinations\n",
        "\n",
        "#Lets increase number of epoches with a steady rate\n",
        "epoch_sizes = [1, 2, 3, 4]\n",
        "#Lets increase learning rate uniformly by a factor of x10\n",
        "learning_rates = [2e-6, 2e-5, 2e-4]\n",
        "\n",
        "combinations = getCombinations(epoch_sizes, learning_rates)\n",
        "\n",
        "#Set print_as_html to print the combinations as html\n",
        "print_as_html = False\n",
        "for c in combinations:\n",
        "  if(not print_as_html):\n",
        "    print(c)\n",
        "  else:\n",
        "    print('<tr>')\n",
        "    for k in c:\n",
        "      print(f'<td>{c[k]}</td>')\n",
        "    print('</tr>')"
      ],
      "execution_count": 8,
      "outputs": [
        {
          "output_type": "stream",
          "text": [
            "{'epoch_size': 1, 'learning_rate': 2e-06}\n",
            "{'epoch_size': 1, 'learning_rate': 2e-05}\n",
            "{'epoch_size': 1, 'learning_rate': 0.0002}\n",
            "{'epoch_size': 2, 'learning_rate': 2e-06}\n",
            "{'epoch_size': 2, 'learning_rate': 2e-05}\n",
            "{'epoch_size': 2, 'learning_rate': 0.0002}\n",
            "{'epoch_size': 3, 'learning_rate': 2e-06}\n",
            "{'epoch_size': 3, 'learning_rate': 2e-05}\n",
            "{'epoch_size': 3, 'learning_rate': 0.0002}\n",
            "{'epoch_size': 4, 'learning_rate': 2e-06}\n",
            "{'epoch_size': 4, 'learning_rate': 2e-05}\n",
            "{'epoch_size': 4, 'learning_rate': 0.0002}\n"
          ],
          "name": "stdout"
        }
      ]
    },
    {
      "cell_type": "markdown",
      "metadata": {
        "id": "RoX7XCUyW2Bg"
      },
      "source": [
        "Now lets describe the model genearator function"
      ]
    },
    {
      "cell_type": "code",
      "metadata": {
        "id": "_nGPlw-kUmE6"
      },
      "source": [
        "import numpy as np\n",
        "from transformers import AutoConfig, AutoModelForSequenceClassification, AutoTokenizer, Trainer, TrainingArguments\n",
        "\n",
        "def runModel(epoch_size, learning_rate):\n",
        "  print(f'Training model for epoch_size : {epoch_size} and learning_rate : {learning_rate}')\n",
        "  metric_name = \"accuracy\"\n",
        "\n",
        "  args = TrainingArguments(\n",
        "      \"test-emotions\",\n",
        "      evaluation_strategy = \"epoch\",\n",
        "      learning_rate = learning_rate,\n",
        "      per_device_train_batch_size = 32,\n",
        "      per_device_eval_batch_size = 32,\n",
        "      num_train_epochs = epoch_size,\n",
        "      weight_decay = 0.01,\n",
        "      #We should set load_best_model_at_end to False as we want to deterine the effect of batch sizes\n",
        "      #So if accuracy decrease after certain batches, it will still give the best model that will\n",
        "      #not fulfill our purpose\n",
        "      load_best_model_at_end = False,\n",
        "      metric_for_best_model = metric_name)\n",
        "\n",
        "  validation_key = \"validation\"\n",
        "\n",
        "  trainer = Trainer(\n",
        "      model,\n",
        "      args,\n",
        "      train_dataset = encoded_dataset[\"train\"],\n",
        "      eval_dataset = encoded_dataset[\"validation\"],\n",
        "      tokenizer = tokenizer,\n",
        "      compute_metrics = compute_metrics)\n",
        "\n",
        "  trainer.train()\n",
        "  res = trainer.evaluate()\n",
        "  return res"
      ],
      "execution_count": 9,
      "outputs": []
    },
    {
      "cell_type": "markdown",
      "metadata": {
        "id": "K5Ut6Oo8pAor"
      },
      "source": [
        "<h1>Pre Saved results<h1>\n",
        "<p>These results were saved when the complete combinations were evaluated, and are hard codded here now so if we desire to use them again we can use them, altough if we rerun all the combinations the variable will be overwritten later in the code</p>"
      ]
    },
    {
      "cell_type": "code",
      "metadata": {
        "id": "MwXkaki441GD"
      },
      "source": [
        "saved_results = [{'epoch_size': 1, 'learning_rate': 2e-06, 'eval_loss': 2.9802091121673584, 'eval_accuracy': 0.11028416779431664, 'eval_runtime': 1.7851, 'eval_samples_per_second': 1655.969, 'epoch': 1.0}, {'epoch_size': 1, 'learning_rate': 2e-05, 'eval_loss': 2.0992298126220703, 'eval_accuracy': 0.4313261163734777, 'eval_runtime': 1.7863, 'eval_samples_per_second': 1654.853, 'epoch': 1.0}, {'epoch_size': 1, 'learning_rate': 0.0002, 'eval_loss': 1.7256498336791992, 'eval_accuracy': 0.5223274695534507, 'eval_runtime': 1.7851, 'eval_samples_per_second': 1655.909, 'epoch': 1.0}, {'epoch_size': 2, 'learning_rate': 2e-06, 'eval_loss': 1.7033883333206177, 'eval_accuracy': 0.5196211096075778, 'eval_runtime': 1.7876, 'eval_samples_per_second': 1653.628, 'epoch': 2.0}, {'epoch_size': 2, 'learning_rate': 2e-05, 'eval_loss': 1.6181644201278687, 'eval_accuracy': 0.5524357239512855, 'eval_runtime': 1.7906, 'eval_samples_per_second': 1650.845, 'epoch': 2.0}, {'epoch_size': 2, 'learning_rate': 0.0002, 'eval_loss': 1.569570541381836, 'eval_accuracy': 0.5720568335588633, 'eval_runtime': 1.7892, 'eval_samples_per_second': 1652.168, 'epoch': 2.0}, {'epoch_size': 3, 'learning_rate': 2e-06, 'eval_loss': 1.6316291093826294, 'eval_accuracy': 0.5679972936400541, 'eval_runtime': 1.795, 'eval_samples_per_second': 1646.751, 'epoch': 3.0}, {'epoch_size': 3, 'learning_rate': 2e-05, 'eval_loss': 1.8253920078277588, 'eval_accuracy': 0.553788903924222, 'eval_runtime': 1.7875, 'eval_samples_per_second': 1653.723, 'epoch': 3.0}, {'epoch_size': 3, 'learning_rate': 0.0002, 'eval_loss': 2.0674209594726562, 'eval_accuracy': 0.547361299052774, 'eval_runtime': 1.7896, 'eval_samples_per_second': 1651.722, 'epoch': 3.0}, {'epoch_size': 4, 'learning_rate': 2e-06, 'eval_loss': 2.2355353832244873, 'eval_accuracy': 0.5483761840324763, 'eval_runtime': 1.791, 'eval_samples_per_second': 1650.483, 'epoch': 4.0}, {'epoch_size': 4, 'learning_rate': 2e-05, 'eval_loss': 2.7451794147491455, 'eval_accuracy': 0.5389039242219216, 'eval_runtime': 1.7894, 'eval_samples_per_second': 1651.929, 'epoch': 4.0}, {'epoch_size': 4, 'learning_rate': 0.0002, 'eval_loss': 2.8472988605499268, 'eval_accuracy': 0.5382273342354533, 'eval_runtime': 1.7876, 'eval_samples_per_second': 1653.645, 'epoch': 4.0}]"
      ],
      "execution_count": 10,
      "outputs": []
    },
    {
      "cell_type": "markdown",
      "metadata": {
        "id": "Kbz5jT3H0hck"
      },
      "source": [
        "<h1>Run Models and get result<h1>\n",
        "<p>Now we defines a function to actually run the above combinations, but as model training is complete once and saved in saved_results varibale above so mode sould be explicitly send as 0 for the training to be again caried out.</p>\n"
      ]
    },
    {
      "cell_type": "code",
      "metadata": {
        "id": "24AndNoQW_5r",
        "colab": {
          "base_uri": "https://localhost:8080/"
        },
        "outputId": "df792ce1-9372-46e6-83e4-c3dd2114f222"
      },
      "source": [
        "def RunModel(mode = -1):\n",
        "  #Run all combinations from scratch\n",
        "  if(mode == 0):\n",
        "    #We will ierate over the combinations and get the result of model\n",
        "    for i in range(len(combinations)):\n",
        "      c = combinations[i]\n",
        "      res = runModel(c[\"epoch_size\"], c[\"learning_rate\"])\n",
        "      c.update(res)\n",
        "      print(f'Result of training : {c}')\n",
        "      print(\"-----------------------------------------\\n-----------------------------------------\\n\\n\")\n",
        "    print(\"Complete\")\n",
        "\n",
        "mode = -1\n",
        "\n",
        "if(mode == 0):\n",
        "  load_model('distilbert-base-uncased')\n",
        "  RunModel(mode)\n",
        "else:\n",
        "  print(\"No new training done, will use the already saved result\")"
      ],
      "execution_count": 11,
      "outputs": [
        {
          "output_type": "stream",
          "text": [
            "No new training done, will use the already saved result\n"
          ],
          "name": "stdout"
        }
      ]
    },
    {
      "cell_type": "code",
      "metadata": {
        "id": "WKURgMR11jw5",
        "colab": {
          "base_uri": "https://localhost:8080/"
        },
        "outputId": "5a55a363-b759-40fa-91fa-10c080b016b6"
      },
      "source": [
        "#The new result get saved in the combination dictionary,\n",
        "#if the code was ran with mode = 0, i.e to do training, the saved_results should be overwrite by combination \n",
        "if(mode == 0):\n",
        "  saved_results = combinations\n",
        "\n",
        "print(saved_results)"
      ],
      "execution_count": 12,
      "outputs": [
        {
          "output_type": "stream",
          "text": [
            "[{'epoch_size': 1, 'learning_rate': 2e-06, 'eval_loss': 2.9802091121673584, 'eval_accuracy': 0.11028416779431664, 'eval_runtime': 1.7851, 'eval_samples_per_second': 1655.969, 'epoch': 1.0}, {'epoch_size': 1, 'learning_rate': 2e-05, 'eval_loss': 2.0992298126220703, 'eval_accuracy': 0.4313261163734777, 'eval_runtime': 1.7863, 'eval_samples_per_second': 1654.853, 'epoch': 1.0}, {'epoch_size': 1, 'learning_rate': 0.0002, 'eval_loss': 1.7256498336791992, 'eval_accuracy': 0.5223274695534507, 'eval_runtime': 1.7851, 'eval_samples_per_second': 1655.909, 'epoch': 1.0}, {'epoch_size': 2, 'learning_rate': 2e-06, 'eval_loss': 1.7033883333206177, 'eval_accuracy': 0.5196211096075778, 'eval_runtime': 1.7876, 'eval_samples_per_second': 1653.628, 'epoch': 2.0}, {'epoch_size': 2, 'learning_rate': 2e-05, 'eval_loss': 1.6181644201278687, 'eval_accuracy': 0.5524357239512855, 'eval_runtime': 1.7906, 'eval_samples_per_second': 1650.845, 'epoch': 2.0}, {'epoch_size': 2, 'learning_rate': 0.0002, 'eval_loss': 1.569570541381836, 'eval_accuracy': 0.5720568335588633, 'eval_runtime': 1.7892, 'eval_samples_per_second': 1652.168, 'epoch': 2.0}, {'epoch_size': 3, 'learning_rate': 2e-06, 'eval_loss': 1.6316291093826294, 'eval_accuracy': 0.5679972936400541, 'eval_runtime': 1.795, 'eval_samples_per_second': 1646.751, 'epoch': 3.0}, {'epoch_size': 3, 'learning_rate': 2e-05, 'eval_loss': 1.8253920078277588, 'eval_accuracy': 0.553788903924222, 'eval_runtime': 1.7875, 'eval_samples_per_second': 1653.723, 'epoch': 3.0}, {'epoch_size': 3, 'learning_rate': 0.0002, 'eval_loss': 2.0674209594726562, 'eval_accuracy': 0.547361299052774, 'eval_runtime': 1.7896, 'eval_samples_per_second': 1651.722, 'epoch': 3.0}, {'epoch_size': 4, 'learning_rate': 2e-06, 'eval_loss': 2.2355353832244873, 'eval_accuracy': 0.5483761840324763, 'eval_runtime': 1.791, 'eval_samples_per_second': 1650.483, 'epoch': 4.0}, {'epoch_size': 4, 'learning_rate': 2e-05, 'eval_loss': 2.7451794147491455, 'eval_accuracy': 0.5389039242219216, 'eval_runtime': 1.7894, 'eval_samples_per_second': 1651.929, 'epoch': 4.0}, {'epoch_size': 4, 'learning_rate': 0.0002, 'eval_loss': 2.8472988605499268, 'eval_accuracy': 0.5382273342354533, 'eval_runtime': 1.7876, 'eval_samples_per_second': 1653.645, 'epoch': 4.0}]\n"
          ],
          "name": "stdout"
        }
      ]
    },
    {
      "cell_type": "markdown",
      "metadata": {
        "id": "0GgoWXZA5DJL"
      },
      "source": [
        "<h1>Dependence of accuracy upon Epoch Size</h1>\n",
        "<p>Lets discuss the accuraacy upon eppoch size first, for this we will keep the learning rate constant and only jugde the accuracy via eppoch size</p>"
      ]
    },
    {
      "cell_type": "code",
      "metadata": {
        "id": "pCXhqpys5o8H",
        "colab": {
          "base_uri": "https://localhost:8080/",
          "height": 854
        },
        "outputId": "47b9412c-ae97-4b9e-824a-91238c01df14"
      },
      "source": [
        "import numpy as np\n",
        "import matplotlib.pyplot as plt \n",
        "\n",
        "learning_rates = list(set([l['learning_rate'] for l in saved_results]))\n",
        "learning_rates.sort()\n",
        "\n",
        "for learning_rate in learning_rates:\n",
        "  epoch_result = [l for l in saved_results if l['learning_rate'] == learning_rate]\n",
        "\n",
        "  epoch_size = [s['epoch_size'] for s in epoch_result]\n",
        "  eval_accuracy =  [s['eval_accuracy'] for s in epoch_result]\n",
        "\n",
        "  plt.bar([str(x) for x in epoch_size], eval_accuracy, color='maroon', width = 0.3)\n",
        "\n",
        "  plt.ylim(0, max(eval_accuracy)+0.1)\n",
        "  plt.title(f'Learning rate = {learning_rate}')\n",
        "  plt.xlabel(\"epoch_size\")\n",
        "  plt.ylabel(\"eval_accuracy\")\n",
        "  plt.show()"
      ],
      "execution_count": 13,
      "outputs": [
        {
          "output_type": "display_data",
          "data": {
            "image/png": "[encoded data removed]",
            "text/plain": [
              "<Figure size 432x288 with 1 Axes>"
            ]
          },
          "metadata": {
            "tags": [],
            "needs_background": "light"
          }
        },
        {
          "output_type": "display_data",
          "data": {
            "image/png": "[encoded data removed]",
            "text/plain": [
              "<Figure size 432x288 with 1 Axes>"
            ]
          },
          "metadata": {
            "tags": [],
            "needs_background": "light"
          }
        },
        {
          "output_type": "display_data",
          "data": {
            "image/png": "[encoded data removed]",
            "text/plain": [
              "<Figure size 432x288 with 1 Axes>"
            ]
          },
          "metadata": {
            "tags": [],
            "needs_background": "light"
          }
        }
      ]
    },
    {
      "cell_type": "markdown",
      "metadata": {
        "id": "0JGFmvvamKe0"
      },
      "source": [
        "<h2 style='color:blue'>We can see that accuracy increases when we move from epoch size 1 to 2, but decreases as we move from 3 to 4, and has highest values on 2 and 3, but two out of three times its high on 2, so we select 2 as out epoch size.</h2>"
      ]
    },
    {
      "cell_type": "markdown",
      "metadata": {
        "id": "T2NzUEH5MohW"
      },
      "source": [
        "<h1>Dependence of accuracy upon Learning Rate</h1>\n",
        "<p>Lets discuss the accuraacy upon learning rate, now we will keep the epoch size constant and only jugde the accuracy via learning rate</p>"
      ]
    },
    {
      "cell_type": "code",
      "metadata": {
        "id": "GzqHgUjEM4WS",
        "colab": {
          "base_uri": "https://localhost:8080/",
          "height": 1000
        },
        "outputId": "f1c395f3-6f0e-4f15-ccdc-ce3188447ff7"
      },
      "source": [
        "import numpy as np\n",
        "import matplotlib.pyplot as plt \n",
        "\n",
        "epoch_sizes = list(set([l['epoch_size'] for l in saved_results]))\n",
        "epoch_sizes.sort()\n",
        "print(epoch_sizes)\n",
        "\n",
        "for epoch_size in epoch_sizes:\n",
        "  learning_result = [l for l in saved_results if l['epoch_size'] == epoch_size]\n",
        "\n",
        "  learning_rate = [s['learning_rate'] for s in learning_result]\n",
        "  eval_accuracy =  [s['eval_accuracy'] for s in learning_result]\n",
        "\n",
        "  plt.bar([str(x) for x in learning_rate], eval_accuracy, color ='maroon', width = 0.3)\n",
        "\n",
        "  plt.ylim(0, max(eval_accuracy)+0.1)\n",
        "  plt.title(f'Epoch size = {epoch_size}')\n",
        "  plt.xlabel(\"learning_rate\")\n",
        "  plt.ylabel(\"eval_accuracy\")\n",
        "  plt.show()"
      ],
      "execution_count": 14,
      "outputs": [
        {
          "output_type": "stream",
          "text": [
            "[1, 2, 3, 4]\n"
          ],
          "name": "stdout"
        },
        {
          "output_type": "display_data",
          "data": {
            "image/png": "[encoded data removed]",
            "text/plain": [
              "<Figure size 432x288 with 1 Axes>"
            ]
          },
          "metadata": {
            "tags": [],
            "needs_background": "light"
          }
        },
        {
          "output_type": "display_data",
          "data": {
            "image/png": "[encoded data removed]",
            "text/plain": [
              "<Figure size 432x288 with 1 Axes>"
            ]
          },
          "metadata": {
            "tags": [],
            "needs_background": "light"
          }
        },
        {
          "output_type": "display_data",
          "data": {
            "image/png": "[encoded data removed]",
            "text/plain": [
              "<Figure size 432x288 with 1 Axes>"
            ]
          },
          "metadata": {
            "tags": [],
            "needs_background": "light"
          }
        },
        {
          "output_type": "display_data",
          "data": {
            "image/png": "[encoded data removed]",
            "text/plain": [
              "<Figure size 432x288 with 1 Axes>"
            ]
          },
          "metadata": {
            "tags": [],
            "needs_background": "light"
          }
        }
      ]
    },
    {
      "cell_type": "markdown",
      "metadata": {
        "id": "lmLduyKuni70"
      },
      "source": [
        "<h2>We can see rhat accuracy increases as we increase the learning rate, but decreases on large number of eppochs for higher learning rate, but still the decrease is much lesser then the increase in accuracy, so we choose the highest value of learning rate 2e-4 as our final learning rate.</h2>\n",
        "</br>\n",
        "\n",
        "<h1>So our choosen values are <b>2 for epoch size</b> and <b>2e-4 for learning rate</b>, lets see where it stands in all results, It is almost the highest!</h1>"
      ]
    },
    {
      "cell_type": "code",
      "metadata": {
        "id": "qpZjvEzrQskf",
        "colab": {
          "base_uri": "https://localhost:8080/",
          "height": 351
        },
        "outputId": "bd5e96c1-9827-4cca-85f2-cee982164066"
      },
      "source": [
        "import numpy as np\n",
        "import matplotlib.pyplot as plt \n",
        "\n",
        "pair = [f'E:{s[\"epoch_size\"]}|R:{s[\"learning_rate\"]}' for s in saved_results]\n",
        "eval_accuracy =  [s['eval_accuracy'] for s in saved_results]\n",
        "\n",
        "fig = plt.figure(figsize = (25, 5))\n",
        "plt.bar(pair, eval_accuracy, color ='maroon', width = 0.2)\n",
        "\n",
        "plt.ylim(0, max(eval_accuracy)+0.1)\n",
        "plt.title(\"Full Result\")\n",
        "plt.xlabel(\"Epoch size | Learning rate\")\n",
        "plt.ylabel(\"Eval accuracy\")\n",
        "plt.show()"
      ],
      "execution_count": 15,
      "outputs": [
        {
          "output_type": "display_data",
          "data": {
            "image/png": "[encoded data removed]",
            "text/plain": [
              "<Figure size 1800x360 with 1 Axes>"
            ]
          },
          "metadata": {
            "tags": [],
            "needs_background": "light"
          }
        }
      ]
    },
    {
      "cell_type": "markdown",
      "metadata": {
        "id": "vsS3oAigpmkP"
      },
      "source": [
        "<hr>\n",
        "<hr>\n",
        "<hr>"
      ]
    },
    {
      "cell_type": "markdown",
      "metadata": {
        "id": "nplK9I38rtpn"
      },
      "source": [
        "<h1>Qs 2. Try any 2 other models for sequence classification supported by Huggingface and repeat Qs 1 for these. You can find a full list of these <a href=\"https://huggingface.co/transformers/model_doc/auto.html#automodelforsequenceclassification\" target=\"_defaut\">here</a>. (For those of you working with text for your project, you may also find several other useful models for Seq2Seq modeling, question answering, etc.)</h1>"
      ]
    },
    {
      "cell_type": "markdown",
      "metadata": {
        "id": "JVxmUn34_7Uh"
      },
      "source": [
        "<h1>Model 1 : <a href=\"https://huggingface.co/distilbert-base-uncased-finetuned-sst-2-english\" target=\"_default\">distilbert-base-uncased-finetuned-sst-2-english</a></h1>"
      ]
    },
    {
      "cell_type": "code",
      "metadata": {
        "id": "peK2PuwCYk9_"
      },
      "source": [
        "#Results saved from the first run of all combination for this model\n",
        "saved_results2 = [{'epoch_size': 1, 'learning_rate': 2e-06, 'eval_loss': 2.9799323081970215, 'eval_accuracy': 0.11028416779431664, 'eval_runtime': 1.81, 'eval_samples_per_second': 1633.177, 'epoch': 1.0}, {'epoch_size': 1, 'learning_rate': 2e-05, 'eval_loss': 2.1144936084747314, 'eval_accuracy': 0.4225304465493911, 'eval_runtime': 1.815, 'eval_samples_per_second': 1628.682, 'epoch': 1.0}, {'epoch_size': 1, 'learning_rate': 0.0002, 'eval_loss': 1.6660503149032593, 'eval_accuracy': 0.5382273342354533, 'eval_runtime': 1.8106, 'eval_samples_per_second': 1632.636, 'epoch': 1.0}, {'epoch_size': 2, 'learning_rate': 2e-06, 'eval_loss': 1.6360249519348145, 'eval_accuracy': 0.5487144790257105, 'eval_runtime': 1.8153, 'eval_samples_per_second': 1628.418, 'epoch': 2.0}, {'epoch_size': 2, 'learning_rate': 2e-05, 'eval_loss': 1.5771081447601318, 'eval_accuracy': 0.5717185385656293, 'eval_runtime': 1.8064, 'eval_samples_per_second': 1636.416, 'epoch': 2.0}, {'epoch_size': 2, 'learning_rate': 0.0002, 'eval_loss': 1.5714588165283203, 'eval_accuracy': 0.581190798376184, 'eval_runtime': 1.8083, 'eval_samples_per_second': 1634.696, 'epoch': 2.0}, {'epoch_size': 3, 'learning_rate': 2e-06, 'eval_loss': 1.647143840789795, 'eval_accuracy': 0.5767929634641408, 'eval_runtime': 1.8136, 'eval_samples_per_second': 1629.888, 'epoch': 3.0}, {'epoch_size': 3, 'learning_rate': 2e-05, 'eval_loss': 1.8614081144332886, 'eval_accuracy': 0.5622462787550744, 'eval_runtime': 1.8177, 'eval_samples_per_second': 1626.269, 'epoch': 3.0}, {'epoch_size': 3, 'learning_rate': 0.0002, 'eval_loss': 2.1574547290802, 'eval_accuracy': 0.5446549391069012, 'eval_runtime': 1.815, 'eval_samples_per_second': 1628.623, 'epoch': 3.0}, {'epoch_size': 4, 'learning_rate': 2e-06, 'eval_loss': 2.361755132675171, 'eval_accuracy': 0.5433017591339648, 'eval_runtime': 1.8081, 'eval_samples_per_second': 1634.869, 'epoch': 4.0}, {'epoch_size': 4, 'learning_rate': 2e-05, 'eval_loss': 2.977057933807373, 'eval_accuracy': 0.5267253044654939, 'eval_runtime': 1.812, 'eval_samples_per_second': 1631.345, 'epoch': 4.0}, {'epoch_size': 4, 'learning_rate': 0.0002, 'eval_loss': 3.0134096145629883, 'eval_accuracy': 0.5081190798376184, 'eval_runtime': 1.8116, 'eval_samples_per_second': 1631.73, 'epoch': 4.0}]"
      ],
      "execution_count": 16,
      "outputs": []
    },
    {
      "cell_type": "code",
      "metadata": {
        "id": "QaLrHsjTu5d7",
        "colab": {
          "base_uri": "https://localhost:8080/"
        },
        "outputId": "4b4ad822-284e-4a46-a950-a1e692df23f0"
      },
      "source": [
        "#Clone combinations so actual list is not manipulated\n",
        "combinations2 = combinations.copy()\n",
        "\n",
        "def RunModel(mode = -1):\n",
        "  #Run all combinations from scratch\n",
        "  if(mode == 0):\n",
        "    #We will ierate over the combinations and get the result of model\n",
        "    for i in range(len(combinations2)):\n",
        "      c = combinations2[i]\n",
        "      res = runModel(c[\"epoch_size\"], c[\"learning_rate\"])\n",
        "      c.update(res)\n",
        "      print(f'Result of training : {c}')\n",
        "      print(\"-----------------------------------------\\n-----------------------------------------\\n\\n\")\n",
        "    print(\"Complete\")\n",
        "\n",
        "mode2 = -1\n",
        "\n",
        "if(mode2 == 0):\n",
        "  load_model('distilbert-base-uncased-finetuned-sst-2-english')\n",
        "  RunModel(mode2)\n",
        "else:\n",
        "  print(\"No new training done, will use the already saved result\")"
      ],
      "execution_count": 17,
      "outputs": [
        {
          "output_type": "stream",
          "text": [
            "No new training done, will use the already saved result\n"
          ],
          "name": "stdout"
        }
      ]
    },
    {
      "cell_type": "code",
      "metadata": {
        "id": "3dHnmRt1zijf",
        "colab": {
          "base_uri": "https://localhost:8080/"
        },
        "outputId": "1ea183d5-610c-48e1-c068-58d0174f2413"
      },
      "source": [
        "#The result also get saved in the combination dictionary,\n",
        "#if the code was ran with mode = 0, i.e to do training the saved_results are overwrite by combination \n",
        "if(mode2 == 0):\n",
        "  saved_results2 = combinations2\n",
        "\n",
        "print(saved_results2)"
      ],
      "execution_count": 18,
      "outputs": [
        {
          "output_type": "stream",
          "text": [
            "[{'epoch_size': 1, 'learning_rate': 2e-06, 'eval_loss': 2.9799323081970215, 'eval_accuracy': 0.11028416779431664, 'eval_runtime': 1.81, 'eval_samples_per_second': 1633.177, 'epoch': 1.0}, {'epoch_size': 1, 'learning_rate': 2e-05, 'eval_loss': 2.1144936084747314, 'eval_accuracy': 0.4225304465493911, 'eval_runtime': 1.815, 'eval_samples_per_second': 1628.682, 'epoch': 1.0}, {'epoch_size': 1, 'learning_rate': 0.0002, 'eval_loss': 1.6660503149032593, 'eval_accuracy': 0.5382273342354533, 'eval_runtime': 1.8106, 'eval_samples_per_second': 1632.636, 'epoch': 1.0}, {'epoch_size': 2, 'learning_rate': 2e-06, 'eval_loss': 1.6360249519348145, 'eval_accuracy': 0.5487144790257105, 'eval_runtime': 1.8153, 'eval_samples_per_second': 1628.418, 'epoch': 2.0}, {'epoch_size': 2, 'learning_rate': 2e-05, 'eval_loss': 1.5771081447601318, 'eval_accuracy': 0.5717185385656293, 'eval_runtime': 1.8064, 'eval_samples_per_second': 1636.416, 'epoch': 2.0}, {'epoch_size': 2, 'learning_rate': 0.0002, 'eval_loss': 1.5714588165283203, 'eval_accuracy': 0.581190798376184, 'eval_runtime': 1.8083, 'eval_samples_per_second': 1634.696, 'epoch': 2.0}, {'epoch_size': 3, 'learning_rate': 2e-06, 'eval_loss': 1.647143840789795, 'eval_accuracy': 0.5767929634641408, 'eval_runtime': 1.8136, 'eval_samples_per_second': 1629.888, 'epoch': 3.0}, {'epoch_size': 3, 'learning_rate': 2e-05, 'eval_loss': 1.8614081144332886, 'eval_accuracy': 0.5622462787550744, 'eval_runtime': 1.8177, 'eval_samples_per_second': 1626.269, 'epoch': 3.0}, {'epoch_size': 3, 'learning_rate': 0.0002, 'eval_loss': 2.1574547290802, 'eval_accuracy': 0.5446549391069012, 'eval_runtime': 1.815, 'eval_samples_per_second': 1628.623, 'epoch': 3.0}, {'epoch_size': 4, 'learning_rate': 2e-06, 'eval_loss': 2.361755132675171, 'eval_accuracy': 0.5433017591339648, 'eval_runtime': 1.8081, 'eval_samples_per_second': 1634.869, 'epoch': 4.0}, {'epoch_size': 4, 'learning_rate': 2e-05, 'eval_loss': 2.977057933807373, 'eval_accuracy': 0.5267253044654939, 'eval_runtime': 1.812, 'eval_samples_per_second': 1631.345, 'epoch': 4.0}, {'epoch_size': 4, 'learning_rate': 0.0002, 'eval_loss': 3.0134096145629883, 'eval_accuracy': 0.5081190798376184, 'eval_runtime': 1.8116, 'eval_samples_per_second': 1631.73, 'epoch': 4.0}]\n"
          ],
          "name": "stdout"
        }
      ]
    },
    {
      "cell_type": "markdown",
      "metadata": {
        "id": "vQHexxjRZg2U"
      },
      "source": [
        "<h1>Dependence of accuracy upon Epoch Size</h1>\n",
        "<p>Lets discuss the accuraacy upon eppoch size first, for this we will keep the learning rate constant and only jugde the accuracy via eppoch size</p>"
      ]
    },
    {
      "cell_type": "code",
      "metadata": {
        "id": "XIGVoSfeZuqx",
        "colab": {
          "base_uri": "https://localhost:8080/",
          "height": 854
        },
        "outputId": "ac5411a6-dbaf-4f87-bf74-0cacae1a995f"
      },
      "source": [
        "import numpy as np\n",
        "import matplotlib.pyplot as plt \n",
        "\n",
        "learning_rates2 = list(set([l['learning_rate'] for l in saved_results2]))\n",
        "learning_rates2.sort()\n",
        "\n",
        "for learning_rate2 in learning_rates2:\n",
        "  epoch_result2 = [l for l in saved_results2 if l['learning_rate'] == learning_rate2]\n",
        "\n",
        "  epoch_size2 = [s['epoch_size'] for s in epoch_result2]\n",
        "  eval_accuracy2 =  [s['eval_accuracy'] for s in epoch_result2]\n",
        "\n",
        "  plt.bar([str(x) for x in epoch_size2], eval_accuracy2, color='maroon', width = 0.3)\n",
        "\n",
        "  plt.ylim(0, max(eval_accuracy2)+0.1)\n",
        "  plt.title(f'Learning rate = {learning_rate2}')\n",
        "  plt.xlabel(\"epoch_size\")\n",
        "  plt.ylabel(\"eval_accuracy\")\n",
        "  plt.show()"
      ],
      "execution_count": 19,
      "outputs": [
        {
          "output_type": "display_data",
          "data": {
            "image/png": "[encoded data removed]",
            "text/plain": [
              "<Figure size 432x288 with 1 Axes>"
            ]
          },
          "metadata": {
            "tags": [],
            "needs_background": "light"
          }
        },
        {
          "output_type": "display_data",
          "data": {
            "image/png": "[encoded data removed]",
            "text/plain": [
              "<Figure size 432x288 with 1 Axes>"
            ]
          },
          "metadata": {
            "tags": [],
            "needs_background": "light"
          }
        },
        {
          "output_type": "display_data",
          "data": {
            "image/png": "[encoded data removed]",
            "text/plain": [
              "<Figure size 432x288 with 1 Axes>"
            ]
          },
          "metadata": {
            "tags": [],
            "needs_background": "light"
          }
        }
      ]
    },
    {
      "cell_type": "markdown",
      "metadata": {
        "id": "3vcHFFdgaJkp"
      },
      "source": [
        "<h2 style='color:blue'>We can see here that accuracy increases when we move from epoch size 1 to 2, but decreases as we move from 3 to 4, and has highest values on 2 and 3, but two out of three times its high on 2, so we select 2 as out epoch size.</h2>"
      ]
    },
    {
      "cell_type": "markdown",
      "metadata": {
        "id": "shwowDh5aVFn"
      },
      "source": [
        "<h1>Dependence of accuracy upon Learning Rate</h1>\n",
        "<p>Lets discuss the accuraacy upon learning rate, now we will keep the epoch size constant and only jugde the accuracy via learning rate</p>"
      ]
    },
    {
      "cell_type": "code",
      "metadata": {
        "id": "XB69U9pFaaLg",
        "colab": {
          "base_uri": "https://localhost:8080/",
          "height": 1000
        },
        "outputId": "db625e7a-a59d-48e2-e9d5-ee17b1e5eead"
      },
      "source": [
        "import numpy as np\n",
        "import matplotlib.pyplot as plt \n",
        "\n",
        "epoch_sizes2 = list(set([l['epoch_size'] for l in saved_results2]))\n",
        "epoch_sizes2.sort()\n",
        "\n",
        "for epoch_size2 in epoch_sizes2:\n",
        "  learning_result2 = [l for l in saved_results2 if l['epoch_size'] == epoch_size2]\n",
        "\n",
        "  learning_rate2 = [s['learning_rate'] for s in learning_result2]\n",
        "  eval_accuracy2 = [s['eval_accuracy'] for s in learning_result2]\n",
        "\n",
        "  plt.bar([str(x) for x in learning_rate2], eval_accuracy2, color ='maroon', width = 0.3)\n",
        "\n",
        "  plt.ylim(0, max(eval_accuracy2)+0.1)\n",
        "  plt.title(f'Epoch size = {epoch_size2}')\n",
        "  plt.xlabel(\"learning_rate\")\n",
        "  plt.ylabel(\"eval_accuracy\")\n",
        "  plt.show()"
      ],
      "execution_count": 20,
      "outputs": [
        {
          "output_type": "display_data",
          "data": {
            "image/png": "[encoded data removed]",
            "text/plain": [
              "<Figure size 432x288 with 1 Axes>"
            ]
          },
          "metadata": {
            "tags": [],
            "needs_background": "light"
          }
        },
        {
          "output_type": "display_data",
          "data": {
            "image/png": "[encoded data removed]",
            "text/plain": [
              "<Figure size 432x288 with 1 Axes>"
            ]
          },
          "metadata": {
            "tags": [],
            "needs_background": "light"
          }
        },
        {
          "output_type": "display_data",
          "data": {
            "image/png": "[encoded data removed]",
            "text/plain": [
              "<Figure size 432x288 with 1 Axes>"
            ]
          },
          "metadata": {
            "tags": [],
            "needs_background": "light"
          }
        },
        {
          "output_type": "display_data",
          "data": {
            "image/png": "[encoded data removed]",
            "text/plain": [
              "<Figure size 432x288 with 1 Axes>"
            ]
          },
          "metadata": {
            "tags": [],
            "needs_background": "light"
          }
        }
      ]
    },
    {
      "cell_type": "markdown",
      "metadata": {
        "id": "KYKOAqp_bAH-"
      },
      "source": [
        "<h2>Again, We can see that accuracy increases as we increase the learning rate, but decreases on large number of eppochs for higher learning rate, but still the decrease is much lesser then the increase in accuracy, so we choose the highest value of learning rate 2e-4 as our final learning rate.</h2>\n",
        "</br>\n",
        "\n",
        "<h1>So our choice for values: <b>2 for epoch size</b> and <b>2e-4 for learning rate</b> holds still.</h1>"
      ]
    },
    {
      "cell_type": "code",
      "metadata": {
        "id": "marxgORSbR17",
        "colab": {
          "base_uri": "https://localhost:8080/",
          "height": 351
        },
        "outputId": "211c2133-c200-4aea-ad2e-2f9822c05be7"
      },
      "source": [
        "import numpy as np\n",
        "import matplotlib.pyplot as plt \n",
        "\n",
        "pair2 = [f'E:{s[\"epoch_size\"]}|R:{s[\"learning_rate\"]}' for s in saved_results2]\n",
        "eval_accuracy2 = [s['eval_accuracy'] for s in saved_results2]\n",
        "\n",
        "fig = plt.figure(figsize = (25, 5))\n",
        "plt.bar(pair2, eval_accuracy2, color ='maroon', width = 0.2)\n",
        "\n",
        "plt.ylim(0, max(eval_accuracy2)+0.1)\n",
        "plt.title(\"Full Result\")\n",
        "plt.xlabel(\"Epoch size | Learning rate\")\n",
        "plt.ylabel(\"Eval accuracy\")\n",
        "plt.show()"
      ],
      "execution_count": 21,
      "outputs": [
        {
          "output_type": "display_data",
          "data": {
            "image/png": "[encoded data removed]",
            "text/plain": [
              "<Figure size 1800x360 with 1 Axes>"
            ]
          },
          "metadata": {
            "tags": [],
            "needs_background": "light"
          }
        }
      ]
    },
    {
      "cell_type": "markdown",
      "metadata": {
        "id": "9AiDpWJFcEv0"
      },
      "source": [
        "<hr>\n",
        "<hr>\n",
        "<hr>"
      ]
    },
    {
      "cell_type": "markdown",
      "metadata": {
        "id": "tODGw4aGcVo-"
      },
      "source": [
        "<h1>Model 2 : <a href=\"https://huggingface.co/ProsusAI/finbert\" target=\"_default\">ProsusAI/finbert </a></h1>"
      ]
    },
    {
      "cell_type": "code",
      "metadata": {
        "id": "5gdHhSz4FqdZ"
      },
      "source": [
        "#Results saved from the first run of all combination for this model\n",
        "saved_results3 = [{'epoch_size': 1, 'learning_rate': 2e-06, 'eval_loss': 2.9390463829040527, 'eval_accuracy': 0.13227334235453314, 'eval_runtime': 3.505, 'eval_samples_per_second': 843.361, 'epoch': 1.0}, {'epoch_size': 1, 'learning_rate': 2e-05, 'eval_loss': 2.1537256240844727, 'eval_accuracy': 0.40358592692828144, 'eval_runtime': 3.5101, 'eval_samples_per_second': 842.134, 'epoch': 1.0}, {'epoch_size': 1, 'learning_rate': 0.0002, 'eval_loss': 3.0044615268707275, 'eval_accuracy': 0.11028416779431664, 'eval_runtime': 3.5036, 'eval_samples_per_second': 843.715, 'epoch': 1.0}, {'epoch_size': 2, 'learning_rate': 2e-06, 'eval_loss': 3.0013301372528076, 'eval_accuracy': 0.11028416779431664, 'eval_runtime': 3.5031, 'eval_samples_per_second': 843.825, 'epoch': 2.0}, {'epoch_size': 2, 'learning_rate': 2e-05, 'eval_loss': 3.001232147216797, 'eval_accuracy': 0.11028416779431664, 'eval_runtime': 3.5016, 'eval_samples_per_second': 844.187, 'epoch': 2.0}, {'epoch_size': 2, 'learning_rate': 0.0002, 'eval_loss': 3.0031230449676514, 'eval_accuracy': 0.11028416779431664, 'eval_runtime': 3.5066, 'eval_samples_per_second': 842.985, 'epoch': 2.0}, {'epoch_size': 3, 'learning_rate': 2e-06, 'eval_loss': 3.0014522075653076, 'eval_accuracy': 0.11028416779431664, 'eval_runtime': 3.5074, 'eval_samples_per_second': 842.787, 'epoch': 3.0}, {'epoch_size': 3, 'learning_rate': 2e-05, 'eval_loss': 3.0008232593536377, 'eval_accuracy': 0.11028416779431664, 'eval_runtime': 3.5053, 'eval_samples_per_second': 843.294, 'epoch': 3.0}, {'epoch_size': 3, 'learning_rate': 0.0002, 'eval_loss': 3.002368688583374, 'eval_accuracy': 0.11028416779431664, 'eval_runtime': 3.5063, 'eval_samples_per_second': 843.057, 'epoch': 3.0}, {'epoch_size': 4, 'learning_rate': 2e-06, 'eval_loss': 3.001242160797119, 'eval_accuracy': 0.11028416779431664, 'eval_runtime': 3.5067, 'eval_samples_per_second': 842.964, 'epoch': 4.0}, {'epoch_size': 4, 'learning_rate': 2e-05, 'eval_loss': 3.0015652179718018, 'eval_accuracy': 0.11028416779431664, 'eval_runtime': 3.5129, 'eval_samples_per_second': 841.476, 'epoch': 4.0}, {'epoch_size': 4, 'learning_rate': 0.0002, 'eval_loss': 3.0023627281188965, 'eval_accuracy': 0.11028416779431664, 'eval_runtime': 3.5049, 'eval_samples_per_second': 843.398, 'epoch': 4.0}]"
      ],
      "execution_count": 22,
      "outputs": []
    },
    {
      "cell_type": "code",
      "metadata": {
        "id": "zu8tSUJTczu4",
        "colab": {
          "base_uri": "https://localhost:8080/"
        },
        "outputId": "28922eba-3aae-4ae0-d3a0-a4d50a0df802"
      },
      "source": [
        "#Clone combinations so actual list is not manipulated\n",
        "combinations3 = combinations.copy()\n",
        "\n",
        "def RunModel(mode = -1):\n",
        "  #Run all combinations from scratch\n",
        "  if(mode == 0):\n",
        "    #We will ierate over the combinations and get the result of model\n",
        "    for i in range(len(combinations3)):\n",
        "      c = combinations3[i]\n",
        "      res = runModel(c[\"epoch_size\"], c[\"learning_rate\"])\n",
        "      c.update(res)\n",
        "      print(f'Result of training : {c}')\n",
        "      print(\"-----------------------------------------\\n-----------------------------------------\\n\\n\")\n",
        "    print(\"Complete\")\n",
        "\n",
        "mode3 = -1\n",
        "\n",
        "if(mode3 == 0):\n",
        "  load_model('ProsusAI/finbert')\n",
        "  RunModel(mode3)\n",
        "else:\n",
        "  print(\"No new training done, will use the already saved result\")"
      ],
      "execution_count": 23,
      "outputs": [
        {
          "output_type": "stream",
          "text": [
            "No new training done, will use the already saved result\n"
          ],
          "name": "stdout"
        }
      ]
    },
    {
      "cell_type": "code",
      "metadata": {
        "colab": {
          "base_uri": "https://localhost:8080/"
        },
        "id": "wXTptUIeGttn",
        "outputId": "daeb250f-d62a-4803-f6ea-e4bb54674aa3"
      },
      "source": [
        "#The result also get saved in the combination dictionary,\n",
        "#if the code was ran with mode = 0, i.e to do training the saved_results are overwrite by combination \n",
        "if(mode3 == 0):\n",
        "  saved_results3 = combinations3\n",
        "\n",
        "print(saved_results3)"
      ],
      "execution_count": 24,
      "outputs": [
        {
          "output_type": "stream",
          "text": [
            "[{'epoch_size': 1, 'learning_rate': 2e-06, 'eval_loss': 2.9390463829040527, 'eval_accuracy': 0.13227334235453314, 'eval_runtime': 3.505, 'eval_samples_per_second': 843.361, 'epoch': 1.0}, {'epoch_size': 1, 'learning_rate': 2e-05, 'eval_loss': 2.1537256240844727, 'eval_accuracy': 0.40358592692828144, 'eval_runtime': 3.5101, 'eval_samples_per_second': 842.134, 'epoch': 1.0}, {'epoch_size': 1, 'learning_rate': 0.0002, 'eval_loss': 3.0044615268707275, 'eval_accuracy': 0.11028416779431664, 'eval_runtime': 3.5036, 'eval_samples_per_second': 843.715, 'epoch': 1.0}, {'epoch_size': 2, 'learning_rate': 2e-06, 'eval_loss': 3.0013301372528076, 'eval_accuracy': 0.11028416779431664, 'eval_runtime': 3.5031, 'eval_samples_per_second': 843.825, 'epoch': 2.0}, {'epoch_size': 2, 'learning_rate': 2e-05, 'eval_loss': 3.001232147216797, 'eval_accuracy': 0.11028416779431664, 'eval_runtime': 3.5016, 'eval_samples_per_second': 844.187, 'epoch': 2.0}, {'epoch_size': 2, 'learning_rate': 0.0002, 'eval_loss': 3.0031230449676514, 'eval_accuracy': 0.11028416779431664, 'eval_runtime': 3.5066, 'eval_samples_per_second': 842.985, 'epoch': 2.0}, {'epoch_size': 3, 'learning_rate': 2e-06, 'eval_loss': 3.0014522075653076, 'eval_accuracy': 0.11028416779431664, 'eval_runtime': 3.5074, 'eval_samples_per_second': 842.787, 'epoch': 3.0}, {'epoch_size': 3, 'learning_rate': 2e-05, 'eval_loss': 3.0008232593536377, 'eval_accuracy': 0.11028416779431664, 'eval_runtime': 3.5053, 'eval_samples_per_second': 843.294, 'epoch': 3.0}, {'epoch_size': 3, 'learning_rate': 0.0002, 'eval_loss': 3.002368688583374, 'eval_accuracy': 0.11028416779431664, 'eval_runtime': 3.5063, 'eval_samples_per_second': 843.057, 'epoch': 3.0}, {'epoch_size': 4, 'learning_rate': 2e-06, 'eval_loss': 3.001242160797119, 'eval_accuracy': 0.11028416779431664, 'eval_runtime': 3.5067, 'eval_samples_per_second': 842.964, 'epoch': 4.0}, {'epoch_size': 4, 'learning_rate': 2e-05, 'eval_loss': 3.0015652179718018, 'eval_accuracy': 0.11028416779431664, 'eval_runtime': 3.5129, 'eval_samples_per_second': 841.476, 'epoch': 4.0}, {'epoch_size': 4, 'learning_rate': 0.0002, 'eval_loss': 3.0023627281188965, 'eval_accuracy': 0.11028416779431664, 'eval_runtime': 3.5049, 'eval_samples_per_second': 843.398, 'epoch': 4.0}]\n"
          ],
          "name": "stdout"
        }
      ]
    },
    {
      "cell_type": "code",
      "metadata": {
        "colab": {
          "base_uri": "https://localhost:8080/",
          "height": 351
        },
        "id": "BOJGc82kHLAQ",
        "outputId": "1b9b76bc-2dc7-4873-d668-d31f699c1ca0"
      },
      "source": [
        "import numpy as np\n",
        "import matplotlib.pyplot as plt \n",
        "\n",
        "pair3 = [f'E:{s[\"epoch_size\"]}|R:{s[\"learning_rate\"]}' for s in saved_results3]\n",
        "eval_accuracy3 = [s['eval_accuracy'] for s in saved_results3]\n",
        "\n",
        "fig = plt.figure(figsize = (25, 5))\n",
        "plt.bar(pair2, eval_accuracy3, color ='maroon', width = 0.2)\n",
        "\n",
        "plt.ylim(0, max(eval_accuracy3)+0.1)\n",
        "plt.title(\"Full Result\")\n",
        "plt.xlabel(\"Epoch size | Learning rate\")\n",
        "plt.ylabel(\"Eval accuracy\")\n",
        "plt.show()"
      ],
      "execution_count": 25,
      "outputs": [
        {
          "output_type": "display_data",
          "data": {
            "image/png": "[encoded data removed]",
            "text/plain": [
              "<Figure size 1800x360 with 1 Axes>"
            ]
          },
          "metadata": {
            "tags": [],
            "needs_background": "light"
          }
        }
      ]
    },
    {
      "cell_type": "markdown",
      "metadata": {
        "id": "YVjkZTmzHext"
      },
      "source": [
        "<h1>The behaviour of first two steps are identical to previous models, but after that, it appears to be stuck in local minama.</h1>"
      ]
    },
    {
      "cell_type": "markdown",
      "metadata": {
        "id": "rWvdq4ZdLdW1"
      },
      "source": [
        "<hr>\n",
        "<hr>\n",
        "<hr>"
      ]
    },
    {
      "cell_type": "markdown",
      "metadata": {
        "id": "FEI37E24SkH0"
      },
      "source": [
        "<h1>Exporting Model</h1>\n",
        "<p>Here we export the full classses model we do it here as a part of question 4, question 4 also requires to export the model of question 3 which is exported in question 3.</p>"
      ]
    },
    {
      "cell_type": "code",
      "metadata": {
        "id": "r615D2ycu32z",
        "colab": {
          "base_uri": "https://localhost:8080/",
          "height": 346
        },
        "outputId": "c2e2ad41-e15f-4205-ac18-419423bbeddd"
      },
      "source": [
        "from google.colab import drive\n",
        "import torch\n",
        "drive.mount('/content/gdrive')\n",
        "\n",
        "def export_model():\n",
        "  load_model('distilbert-base-uncased-finetuned-sst-2-english')\n",
        "  res = runModel(2, 2e-5)\n",
        "  print(res)\n",
        "  model_save_name = 'nlp_model_full.pt'\n",
        "  path = f'/content/gdrive/My Drive/models/{model_save_name}'\n",
        "  model.save_pretrained(path)\n",
        "\n",
        "#Un commint to export full model (again)\n",
        "#export_model()"
      ],
      "execution_count": 30,
      "outputs": [
        {
          "output_type": "stream",
          "text": [
            "Drive already mounted at /content/gdrive; to attempt to forcibly remount, call drive.mount(\"/content/gdrive\", force_remount=True).\n"
          ],
          "name": "stdout"
        },
        {
          "output_type": "stream",
          "text": [
            "Loading cached processed dataset at /root/.cache/huggingface/datasets/go_emotions/simplified/0.0.0/ef1c18ea192c771555f1e0d638889dd5f1896255782c57c6a0b934d5f94f779e/cache-6e5e14bb873f2b3b.arrow\n",
            "Loading cached processed dataset at /root/.cache/huggingface/datasets/go_emotions/simplified/0.0.0/ef1c18ea192c771555f1e0d638889dd5f1896255782c57c6a0b934d5f94f779e/cache-13610349e03cceb3.arrow\n",
            "Loading cached processed dataset at /root/.cache/huggingface/datasets/go_emotions/simplified/0.0.0/ef1c18ea192c771555f1e0d638889dd5f1896255782c57c6a0b934d5f94f779e/cache-e9cd62e6cb5f75ee.arrow\n",
            "Loading cached processed dataset at /root/.cache/huggingface/datasets/go_emotions/simplified/0.0.0/ef1c18ea192c771555f1e0d638889dd5f1896255782c57c6a0b934d5f94f779e/cache-5248a790bca12dfd.arrow\n",
            "Loading cached processed dataset at /root/.cache/huggingface/datasets/go_emotions/simplified/0.0.0/ef1c18ea192c771555f1e0d638889dd5f1896255782c57c6a0b934d5f94f779e/cache-61e315394d346724.arrow\n",
            "Loading cached processed dataset at /root/.cache/huggingface/datasets/go_emotions/simplified/0.0.0/ef1c18ea192c771555f1e0d638889dd5f1896255782c57c6a0b934d5f94f779e/cache-8e3ffec652313d41.arrow\n"
          ],
          "name": "stderr"
        },
        {
          "output_type": "stream",
          "text": [
            "Training model for epoch_size : 2 and learning_rate : 2e-05\n"
          ],
          "name": "stdout"
        },
        {
          "output_type": "display_data",
          "data": {
            "text/html": [
              "\n",
              "    <div>\n",
              "        <style>\n",
              "            /* Turns off some styling */\n",
              "            progress {\n",
              "                /* gets rid of default border in Firefox and Opera. */\n",
              "                border: none;\n",
              "                /* Needs to be in here for Safari polyfill so background images work as expected. */\n",
              "                background-size: auto;\n",
              "            }\n",
              "        </style>\n",
              "      \n",
              "      <progress value='1468' max='1468' style='width:300px; height:20px; vertical-align: middle;'></progress>\n",
              "      [1468/1468 01:54, Epoch 2/2]\n",
              "    </div>\n",
              "    <table border=\"1\" class=\"dataframe\">\n",
              "  <thead>\n",
              "    <tr style=\"text-align: left;\">\n",
              "      <th>Epoch</th>\n",
              "      <th>Training Loss</th>\n",
              "      <th>Validation Loss</th>\n",
              "      <th>Accuracy</th>\n",
              "      <th>Runtime</th>\n",
              "      <th>Samples Per Second</th>\n",
              "    </tr>\n",
              "  </thead>\n",
              "  <tbody>\n",
              "    <tr>\n",
              "      <td>1</td>\n",
              "      <td>2.611100</td>\n",
              "      <td>1.896297</td>\n",
              "      <td>0.482409</td>\n",
              "      <td>1.785400</td>\n",
              "      <td>1655.623000</td>\n",
              "    </tr>\n",
              "    <tr>\n",
              "      <td>2</td>\n",
              "      <td>1.987000</td>\n",
              "      <td>1.749084</td>\n",
              "      <td>0.519621</td>\n",
              "      <td>1.784000</td>\n",
              "      <td>1656.969000</td>\n",
              "    </tr>\n",
              "  </tbody>\n",
              "</table><p>"
            ],
            "text/plain": [
              "<IPython.core.display.HTML object>"
            ]
          },
          "metadata": {
            "tags": []
          }
        },
        {
          "output_type": "display_data",
          "data": {
            "text/html": [
              "\n",
              "    <div>\n",
              "        <style>\n",
              "            /* Turns off some styling */\n",
              "            progress {\n",
              "                /* gets rid of default border in Firefox and Opera. */\n",
              "                border: none;\n",
              "                /* Needs to be in here for Safari polyfill so background images work as expected. */\n",
              "                background-size: auto;\n",
              "            }\n",
              "        </style>\n",
              "      \n",
              "      <progress value='93' max='93' style='width:300px; height:20px; vertical-align: middle;'></progress>\n",
              "      [93/93 00:01]\n",
              "    </div>\n",
              "    "
            ],
            "text/plain": [
              "<IPython.core.display.HTML object>"
            ]
          },
          "metadata": {
            "tags": []
          }
        },
        {
          "output_type": "stream",
          "text": [
            "{'eval_loss': 1.7490838766098022, 'eval_accuracy': 0.5196211096075778, 'eval_runtime': 1.7823, 'eval_samples_per_second': 1658.517, 'epoch': 2.0}\n"
          ],
          "name": "stdout"
        }
      ]
    },
    {
      "cell_type": "markdown",
      "metadata": {
        "id": "6H_Jv9ohTEHp"
      },
      "source": [
        "<h1>End 🐍</h1>"
      ]
    }
  ]
}